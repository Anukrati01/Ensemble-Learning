{
  "nbformat": 4,
  "nbformat_minor": 0,
  "metadata": {
    "colab": {
      "provenance": []
    },
    "kernelspec": {
      "name": "python3",
      "display_name": "Python 3"
    },
    "language_info": {
      "name": "python"
    }
  },
  "cells": [
    {
      "cell_type": "markdown",
      "source": [
        "# Ensemble Learning"
      ],
      "metadata": {
        "id": "V9p14hx98wf_"
      }
    },
    {
      "cell_type": "markdown",
      "source": [
        "1. Can we use Bagging for regression problems?\n",
        "  - Yes, bagging can be used effectively for regression problems. Bagging, or bootstrap aggregating, is an ensemble method that trains multiple models on different subsets of the training data, then combines their predictions to make a final prediction. In regression, the final prediction is typically the average of the individual model predictions."
      ],
      "metadata": {
        "id": "Ndu4lRZ38xLq"
      }
    },
    {
      "cell_type": "markdown",
      "source": [
        "2. What is the difference between multiple model training and single model training?\n",
        "   - The main difference between multiple model training and single model training lies in the number of models used to address a specific problem. Single model training involves using a single model to learn from data and make predictions, while multiple model training utilizes several models, often with distinct training approaches, and combines their outputs for a more comprehensive or robust solution."
      ],
      "metadata": {
        "id": "bPxexd4H8xae"
      }
    },
    {
      "cell_type": "markdown",
      "source": [
        "3. Explain the concept of feature randomness in Random Forest.\n",
        "  - Feature randomness, also known as feature bagging, is a key component of Random Forest algorithms that introduces diversity among individual decision trees within the forest. It achieves this by randomly selecting a subset of features for consideration when splitting nodes in each decision tree, rather than considering all available features. This random selection of features at each split significantly reduces the correlation between the trees, which in turn leads to a more robust and accurate model."
      ],
      "metadata": {
        "id": "cgOET1-l8xx8"
      }
    },
    {
      "cell_type": "markdown",
      "source": [
        "4. What is OOB (Out-of-Bag) Score?\n",
        "  - The Out-of-Bag (OOB) score, also known as the OOB error, is a method used to evaluate the performance of machine learning models, particularly in bagging algorithms like Random Forests.  "
      ],
      "metadata": {
        "id": "eP9t_Rri8yJ2"
      }
    },
    {
      "cell_type": "markdown",
      "source": [
        "5.How can you measure the importance of features in a Random Forest model?\n",
        "  - In Random Forests, feature importance is often measured using Gini importance (or Mean Decrease in Impurity). This method calculates how much the overall Gini impurity of the decision tree nodes decreases when a specific feature is used to split the data. A higher Gini importance indicates a more important feature."
      ],
      "metadata": {
        "id": "blcadKKK8yZc"
      }
    },
    {
      "cell_type": "markdown",
      "source": [
        "6. Explain the working principle of a Bagging Classifier.\n",
        "  - A Bagging classifier. A Bagging classifier is an ensemble meta-estimator that fits base classifiers each on random subsets of the original dataset and then aggregate their individual predictions (either by voting or by averaging) to form a final prediction."
      ],
      "metadata": {
        "id": "St2v1L5_8yp8"
      }
    },
    {
      "cell_type": "markdown",
      "source": [
        "7. How do you evaluate a Bagging Classifier’s performance?\n",
        "  - To evaluate the performance of a Bagging Classifier, you use various metrics to assess its ability to make accurate predictions on unseen data. These metrics include accuracy, precision, recall, F1-score, and ROC AUC, all of which provide different perspectives on the model's performance. Additionally, comparing the performance of the Bagging Classifier to other models can help determine the best approach for a specific task."
      ],
      "metadata": {
        "id": "3A-1sBof_-w6"
      }
    },
    {
      "cell_type": "markdown",
      "source": [
        "8. How does a Bagging Regressor work?\n",
        " - Bagging Regressor creates an ensemble of multiple base regression models and combines their predictions to produce a final prediction. In Bagging Regressor, the base model is typically a regression algorithm, such as Decision Tree Regressor."
      ],
      "metadata": {
        "id": "WPThpzFjAA5H"
      }
    },
    {
      "cell_type": "markdown",
      "source": [
        "9. What is the main advantage of ensemble techniques?\n",
        "  - The primary advantage of ensemble techniques in machine learning is that they improve predictive accuracy and generalization by combining the strengths of multiple models. By leveraging diverse models and averaging their predictions, ensembles can reduce overfitting, enhance robustness, and improve overall performance on unseen data."
      ],
      "metadata": {
        "id": "Givx8QKXABJb"
      }
    },
    {
      "cell_type": "markdown",
      "source": [
        "10.What is the main challenge of ensemble methods?\n",
        "  - The main challenge of ensemble methods is obtaining base models that make different kinds of errors, as opposed to simply obtaining highly accurate base models. This diversity in errors is crucial for the ensemble to effectively reduce overall error by averaging out the mistakes of individual models."
      ],
      "metadata": {
        "id": "f2LL2LLTABaf"
      }
    },
    {
      "cell_type": "markdown",
      "source": [
        "11.Explain the key idea behind ensemble techniques.\n",
        "   - Ensemble techniques in machine learning combine multiple models to improve predictive accuracy and robustness. The core idea is that by aggregating the predictions of several individual models, a more accurate and reliable overall prediction can be achieved than relying on any single model alone."
      ],
      "metadata": {
        "id": "HIC9BYtZABq_"
      }
    },
    {
      "cell_type": "markdown",
      "source": [
        "12. What is a Random Forest Classifier?\n",
        "  - A Random Forest Classifier is a machine learning algorithm that uses multiple decision trees to classify data into different categories. It works by creating a \"forest\" of decision trees, each trained on a random subset of the data and features. The final prediction is made by combining the predictions of all the trees in the forest, typically through a majority vote. This method reduces overfitting and improves the accuracy of the overall prediction."
      ],
      "metadata": {
        "id": "_8GAvX-3CCsv"
      }
    },
    {
      "cell_type": "markdown",
      "source": [
        "13.What are the main types of ensemble techniques?\n",
        "  - The main types of ensemble techniques are bagging, boosting, and stacking. Bagging involves training multiple models on different subsets of the data and combining their predictions, while boosting trains models sequentially, with each model focusing on correcting the errors of the previous ones. Stacking involves training multiple models and using their predictions as input to a final \"meta-model\" that learns how to combine them optimally."
      ],
      "metadata": {
        "id": "oM9KZtOgCDJm"
      }
    },
    {
      "cell_type": "markdown",
      "source": [
        "14.What is ensemble learning in machine learning?\n",
        "  - Ensemble learning in machine learning combines predictions from multiple models to improve overall performance. This approach leverages the strengths of different models, resulting in a more accurate and robust prediction than any single model alone. Ensemble methods can be applied to various tasks like classification, regression, and clustering."
      ],
      "metadata": {
        "id": "BZqAHwfyCDfN"
      }
    },
    {
      "cell_type": "markdown",
      "source": [
        "15.When should we avoid using ensemble methods?\n",
        "  - Ensemble methods, while generally beneficial, shouldn't be blindly applied in all situations. They are less suitable when computational resources are limited, data is insufficient, or models are highly correlated. Additionally, if interpretability or explainability is paramount, or if you're dealing with outliers or linear features, a simpler model might be preferable."
      ],
      "metadata": {
        "id": "Wq8aRvCPCD0U"
      }
    },
    {
      "cell_type": "markdown",
      "source": [
        "16.How does Bagging help in reducing overfitting?\n",
        "  - Bagging (Bootstrap Aggregating) helps reduce overfitting by training multiple models on different subsets of the training data, which introduces diversity in the models. This diversity leads to different errors, and when the models' predictions are aggregated (usually by averaging), these errors tend to cancel each other out, resulting in a more robust and less prone to overfitting model."
      ],
      "metadata": {
        "id": "4y9wsKTWCEvM"
      }
    },
    {
      "cell_type": "markdown",
      "source": [
        "17. Why is Random Forest better than a single Decision Tree?\n",
        "  -  Random forest algorithms are generally superior to single decision trees due to their ability to reduce overfitting, improve accuracy, and provide more robust predictions. By combining multiple decision trees, random forests leverage ensemble learning to enhance prediction performance."
      ],
      "metadata": {
        "id": "0mv2d-bQEAIQ"
      }
    },
    {
      "cell_type": "markdown",
      "source": [
        "18.  What is the role of bootstrap sampling in Bagging?\n",
        "  - In bagging (Bootstrap Aggregating), bootstrap sampling creates diverse subsets of the original training data by sampling with replacement. This allows multiple models (base learners) to be trained on slightly different datasets, which improves model diversity and reduces variance, ultimately leading to better accuracy and robustness."
      ],
      "metadata": {
        "id": "8wJfjnIHEAgl"
      }
    },
    {
      "cell_type": "markdown",
      "source": [
        "19. What are some real-world applications of ensemble techniques?\n",
        "  - Ensemble techniques, which combine multiple models, find diverse applications across various fields. These techniques improve accuracy and robustness by leveraging the strengths of different models, reducing bias and variance, and offering more reliable predictions."
      ],
      "metadata": {
        "id": "Qz3w6CILEAvY"
      }
    },
    {
      "cell_type": "markdown",
      "source": [
        "20. What is the difference between Bagging and Boosting?\n",
        "  - Bagging (Bootstrap Aggregating) and Boosting are ensemble methods in machine learning that improve model performance by combining multiple models. Bagging trains models independently and in parallel on bootstrapped data, reducing variance and overfitting. Boosting, on the other hand, trains models sequentially, with each model focusing on correcting errors made by previous models, aiming to reduce bias."
      ],
      "metadata": {
        "id": "J8KIl7VIEBGQ"
      }
    },
    {
      "cell_type": "code",
      "source": [
        "#Train a Bagging Classifier using Decision Trees on a sample dataset and print model accuracy.\n",
        "!pip install scikit-learn\n",
        "\n",
        "from sklearn.ensemble import BaggingClassifier\n",
        "from sklearn.tree import DecisionTreeClassifier\n",
        "from sklearn.model_selection import train_test_split\n",
        "from sklearn.metrics import accuracy_score\n",
        "import numpy as np\n",
        "\n",
        "# Generate a sample dataset\n",
        "X = np.random.rand(100, 10)\n",
        "y = (X.sum(axis=1) > 5).astype(int) # Simple classification based on sum of features\n",
        "\n",
        "# Split the dataset into training and testing sets\n",
        "X_train, X_test, y_train, y_test = train_test_split(X, y, test_size=0.2, random_state=42)\n",
        "\n",
        "# Create a Bagging Classifier with Decision Trees as base estimators\n",
        "# n_estimators: The number of base estimators (Decision Trees) in the ensemble.\n",
        "# base_estimator: The base estimator to fit on random subsets of the dataset.\n",
        "bagging_clf = BaggingClassifier(base_estimator=DecisionTreeClassifier(), n_estimators=10, random_state=42)\n",
        "\n",
        "# Train the Bagging Classifier\n",
        "bagging_clf.fit(X_train, y_train)\n",
        "\n",
        "# Make predictions on the test set\n",
        "y_pred = bagging_clf.predict(X_test)\n",
        "\n",
        "# Calculate and print the accuracy\n",
        "accuracy = accuracy_score(y_test, y_pred)\n",
        "print(f\"Model Accuracy: {accuracy}\")"
      ],
      "metadata": {
        "id": "WbsOEG8FT4nc",
        "colab": {
          "base_uri": "https://localhost:8080/",
          "height": 297
        },
        "outputId": "526d0957-e723-4531-9dcd-5552402609ef"
      },
      "execution_count": null,
      "outputs": [
        {
          "output_type": "stream",
          "name": "stdout",
          "text": [
            "Requirement already satisfied: scikit-learn in /usr/local/lib/python3.11/dist-packages (1.6.1)\n",
            "Requirement already satisfied: numpy>=1.19.5 in /usr/local/lib/python3.11/dist-packages (from scikit-learn) (2.0.2)\n",
            "Requirement already satisfied: scipy>=1.6.0 in /usr/local/lib/python3.11/dist-packages (from scikit-learn) (1.15.3)\n",
            "Requirement already satisfied: joblib>=1.2.0 in /usr/local/lib/python3.11/dist-packages (from scikit-learn) (1.5.0)\n",
            "Requirement already satisfied: threadpoolctl>=3.1.0 in /usr/local/lib/python3.11/dist-packages (from scikit-learn) (3.6.0)\n"
          ]
        },
        {
          "output_type": "error",
          "ename": "TypeError",
          "evalue": "BaggingClassifier.__init__() got an unexpected keyword argument 'base_estimator'",
          "traceback": [
            "\u001b[0;31m---------------------------------------------------------------------------\u001b[0m",
            "\u001b[0;31mTypeError\u001b[0m                                 Traceback (most recent call last)",
            "\u001b[0;32m<ipython-input-9-45b279cdef56>\u001b[0m in \u001b[0;36m<cell line: 0>\u001b[0;34m()\u001b[0m\n\u001b[1;32m     18\u001b[0m \u001b[0;31m# n_estimators: The number of base estimators (Decision Trees) in the ensemble.\u001b[0m\u001b[0;34m\u001b[0m\u001b[0;34m\u001b[0m\u001b[0m\n\u001b[1;32m     19\u001b[0m \u001b[0;31m# base_estimator: The base estimator to fit on random subsets of the dataset.\u001b[0m\u001b[0;34m\u001b[0m\u001b[0;34m\u001b[0m\u001b[0m\n\u001b[0;32m---> 20\u001b[0;31m \u001b[0mbagging_clf\u001b[0m \u001b[0;34m=\u001b[0m \u001b[0mBaggingClassifier\u001b[0m\u001b[0;34m(\u001b[0m\u001b[0mbase_estimator\u001b[0m\u001b[0;34m=\u001b[0m\u001b[0mDecisionTreeClassifier\u001b[0m\u001b[0;34m(\u001b[0m\u001b[0;34m)\u001b[0m\u001b[0;34m,\u001b[0m \u001b[0mn_estimators\u001b[0m\u001b[0;34m=\u001b[0m\u001b[0;36m10\u001b[0m\u001b[0;34m,\u001b[0m \u001b[0mrandom_state\u001b[0m\u001b[0;34m=\u001b[0m\u001b[0;36m42\u001b[0m\u001b[0;34m)\u001b[0m\u001b[0;34m\u001b[0m\u001b[0;34m\u001b[0m\u001b[0m\n\u001b[0m\u001b[1;32m     21\u001b[0m \u001b[0;34m\u001b[0m\u001b[0m\n\u001b[1;32m     22\u001b[0m \u001b[0;31m# Train the Bagging Classifier\u001b[0m\u001b[0;34m\u001b[0m\u001b[0;34m\u001b[0m\u001b[0m\n",
            "\u001b[0;31mTypeError\u001b[0m: BaggingClassifier.__init__() got an unexpected keyword argument 'base_estimator'"
          ]
        }
      ]
    },
    {
      "cell_type": "code",
      "source": [
        "#Train a Bagging Regressor using Decision Trees and evaluate using Mean Squared Error (MSE).\n",
        "from sklearn.datasets import fetch_california_housing\n",
        "from sklearn.model_selection import train_test_split\n",
        "from sklearn.ensemble import BaggingRegressor\n",
        "from sklearn.tree import DecisionTreeRegressor\n",
        "from sklearn.metrics import mean_squared_error\n",
        "\n",
        "# Load dataset\n",
        "data = fetch_california_housing()\n",
        "X, y = data.data, data.target\n",
        "\n",
        "# Train-test split\n",
        "X_train, X_test, y_train, y_test = train_test_split(\n",
        "    X, y, test_size=0.3, random_state=42\n",
        ")\n",
        "\n",
        "# Base estimator: Decision Tree Regressor\n",
        "base_estimator = DecisionTreeRegressor()\n",
        "\n",
        "# Bagging Regressor\n",
        "bagging_regressor = BaggingRegressor(\n",
        "    base_estimator=base_estimator,\n",
        "    n_estimators=50,\n",
        "    random_state=42\n",
        ")\n",
        "\n",
        "# Train the model\n",
        "bagging_regressor.fit(X_train, y_train)\n",
        "\n",
        "# Predict on test set\n",
        "y_pred = bagging_regressor.predict(X_test)\n",
        "\n",
        "# Evaluate using Mean Squared Error\n",
        "mse = mean_squared_error(y_test, y_pred)\n",
        "print(\"Mean Squared Error (MSE): {:.4f}\".format(mse))"
      ],
      "metadata": {
        "id": "QLWZ91yPT5Ru",
        "colab": {
          "base_uri": "https://localhost:8080/",
          "height": 211
        },
        "outputId": "38ac1ddc-c660-4990-d65e-0a5534a133d7"
      },
      "execution_count": null,
      "outputs": [
        {
          "output_type": "error",
          "ename": "TypeError",
          "evalue": "BaggingRegressor.__init__() got an unexpected keyword argument 'base_estimator'",
          "traceback": [
            "\u001b[0;31m---------------------------------------------------------------------------\u001b[0m",
            "\u001b[0;31mTypeError\u001b[0m                                 Traceback (most recent call last)",
            "\u001b[0;32m<ipython-input-14-42b26d61d4b0>\u001b[0m in \u001b[0;36m<cell line: 0>\u001b[0;34m()\u001b[0m\n\u001b[1;32m     19\u001b[0m \u001b[0;34m\u001b[0m\u001b[0m\n\u001b[1;32m     20\u001b[0m \u001b[0;31m# Bagging Regressor\u001b[0m\u001b[0;34m\u001b[0m\u001b[0;34m\u001b[0m\u001b[0m\n\u001b[0;32m---> 21\u001b[0;31m bagging_regressor = BaggingRegressor(\n\u001b[0m\u001b[1;32m     22\u001b[0m     \u001b[0mbase_estimator\u001b[0m\u001b[0;34m=\u001b[0m\u001b[0mbase_estimator\u001b[0m\u001b[0;34m,\u001b[0m\u001b[0;34m\u001b[0m\u001b[0;34m\u001b[0m\u001b[0m\n\u001b[1;32m     23\u001b[0m     \u001b[0mn_estimators\u001b[0m\u001b[0;34m=\u001b[0m\u001b[0;36m50\u001b[0m\u001b[0;34m,\u001b[0m\u001b[0;34m\u001b[0m\u001b[0;34m\u001b[0m\u001b[0m\n",
            "\u001b[0;31mTypeError\u001b[0m: BaggingRegressor.__init__() got an unexpected keyword argument 'base_estimator'"
          ]
        }
      ]
    },
    {
      "cell_type": "code",
      "source": [],
      "metadata": {
        "id": "yifS3jJTV9bq"
      },
      "execution_count": null,
      "outputs": []
    },
    {
      "cell_type": "code",
      "source": [
        "# prompt: Train a Bagging Regressor using Decision Trees and evaluate using Mean Squared Error (MSE).\n",
        "\n",
        "import numpy as np\n",
        "from sklearn.ensemble import BaggingRegressor\n",
        "from sklearn.tree import DecisionTreeRegressor\n",
        "from sklearn.metrics import mean_squared_error\n",
        "\n",
        "# Generate a sample regression dataset\n",
        "X_reg = np.random.rand(100, 10)\n",
        "y_reg = X_reg.sum(axis=1) + np.random.randn(100) * 0.1 # Simple regression with noise\n",
        "\n",
        "# Split the dataset into training and testing sets\n",
        "X_train_reg, X_test_reg, y_train_reg, y_test_reg = train_test_split(X_reg, y_reg, test_size=0.2, random_state=42)\n",
        "\n",
        "# Create a Bagging Regressor with Decision Trees as base estimators\n",
        "# n_estimators: The number of base estimators (Decision Trees) in the ensemble.\n",
        "# base_estimator: The base estimator to fit on random subsets of the dataset.\n",
        "bagging_reg = BaggingRegressor(base_estimator=DecisionTreeRegressor(), n_estimators=10, random_state=42)\n",
        "\n",
        "# Train the Bagging Regressor\n",
        "bagging_reg.fit(X_train_reg, y_train_reg)\n",
        "\n",
        "# Make predictions on the test set\n",
        "y_pred_reg = bagging_reg.predict(X_test_reg)\n",
        "\n",
        "# Calculate and print the Mean Squared Error (MSE)\n",
        "mse = mean_squared_error(y_test_reg, y_pred_reg)\n",
        "print(f\"Model MSE: {mse}\")"
      ],
      "metadata": {
        "id": "yxq285vrV9uL",
        "colab": {
          "base_uri": "https://localhost:8080/",
          "height": 211
        },
        "outputId": "a8533e8f-4726-41f5-a268-2b0538565427"
      },
      "execution_count": null,
      "outputs": [
        {
          "output_type": "error",
          "ename": "TypeError",
          "evalue": "BaggingRegressor.__init__() got an unexpected keyword argument 'base_estimator'",
          "traceback": [
            "\u001b[0;31m---------------------------------------------------------------------------\u001b[0m",
            "\u001b[0;31mTypeError\u001b[0m                                 Traceback (most recent call last)",
            "\u001b[0;32m<ipython-input-13-dd1f361370bc>\u001b[0m in \u001b[0;36m<cell line: 0>\u001b[0;34m()\u001b[0m\n\u001b[1;32m     16\u001b[0m \u001b[0;31m# n_estimators: The number of base estimators (Decision Trees) in the ensemble.\u001b[0m\u001b[0;34m\u001b[0m\u001b[0;34m\u001b[0m\u001b[0m\n\u001b[1;32m     17\u001b[0m \u001b[0;31m# base_estimator: The base estimator to fit on random subsets of the dataset.\u001b[0m\u001b[0;34m\u001b[0m\u001b[0;34m\u001b[0m\u001b[0m\n\u001b[0;32m---> 18\u001b[0;31m \u001b[0mbagging_reg\u001b[0m \u001b[0;34m=\u001b[0m \u001b[0mBaggingRegressor\u001b[0m\u001b[0;34m(\u001b[0m\u001b[0mbase_estimator\u001b[0m\u001b[0;34m=\u001b[0m\u001b[0mDecisionTreeRegressor\u001b[0m\u001b[0;34m(\u001b[0m\u001b[0;34m)\u001b[0m\u001b[0;34m,\u001b[0m \u001b[0mn_estimators\u001b[0m\u001b[0;34m=\u001b[0m\u001b[0;36m10\u001b[0m\u001b[0;34m,\u001b[0m \u001b[0mrandom_state\u001b[0m\u001b[0;34m=\u001b[0m\u001b[0;36m42\u001b[0m\u001b[0;34m)\u001b[0m\u001b[0;34m\u001b[0m\u001b[0;34m\u001b[0m\u001b[0m\n\u001b[0m\u001b[1;32m     19\u001b[0m \u001b[0;34m\u001b[0m\u001b[0m\n\u001b[1;32m     20\u001b[0m \u001b[0;31m# Train the Bagging Regressor\u001b[0m\u001b[0;34m\u001b[0m\u001b[0;34m\u001b[0m\u001b[0m\n",
            "\u001b[0;31mTypeError\u001b[0m: BaggingRegressor.__init__() got an unexpected keyword argument 'base_estimator'"
          ]
        }
      ]
    },
    {
      "cell_type": "code",
      "source": [
        "#Train a Random Forest Regressor and compare its performance with a single Decision Tree.\n",
        "from sklearn.ensemble import RandomForestRegressor\n",
        "from sklearn.tree import DecisionTreeRegressor\n",
        "from sklearn.model_selection import train_test_split\n",
        "from sklearn.metrics import mean_squared_error\n",
        "import numpy as np\n",
        "from sklearn.datasets import fetch_california_housing\n",
        "\n",
        "# Load the California housing dataset\n",
        "california = fetch_california_housing()\n",
        "X = california.data\n",
        "y = california.target\n",
        "\n",
        "# Split the dataset into training and testing sets\n",
        "X_train, X_test, y_train, y_test = train_test_split(X, y, test_size=0.2, random_state=42)\n",
        "\n",
        "# Train a Random Forest Regressor\n",
        "# n_estimators: The number of trees in the forest.\n",
        "# random_state: Controls the randomness of the estimator.\n",
        "rf_reg = RandomForestRegressor(n_estimators=100, random_state=42)\n",
        "rf_reg.fit(X_train, y_train)\n",
        "\n",
        "# Make predictions with the Random Forest Regressor\n",
        "y_pred_rf = rf_reg.predict(X_test)\n",
        "\n",
        "# Calculate the Mean Squared Error for the Random Forest Regressor\n",
        "mse_rf = mean_squared_error(y_test, y_pred_rf)\n",
        "print(f\"Random Forest Regressor MSE: {mse_rf}\")\n",
        "\n",
        "# Train a single Decision Tree Regressor\n",
        "# random_state: Controls the randomness of the estimator.\n",
        "dt_reg = DecisionTreeRegressor(random_state=42)\n",
        "dt_reg.fit(X_train, y_train)\n",
        "\n",
        "# Make predictions with the single Decision Tree Regressor\n",
        "y_pred_dt = dt_reg.predict(X_test)\n",
        "\n",
        "# Calculate the Mean Squared Error for the single Decision Tree Regressor\n",
        "mse_dt = mean_squared_error(y_test, y_pred_dt)\n",
        "print(f\"Single Decision Tree Regressor MSE: {mse_dt}\")\n",
        "\n",
        "# Compare the performance\n",
        "if mse_rf < mse_dt:\n",
        "  print(\"\\nRandom Forest Regressor performed better than a single Decision Tree Regressor.\")\n",
        "elif mse_rf > mse_dt:\n",
        "  print(\"\\nA single Decision Tree Regressor performed better than the Random Forest Regressor.\")\n",
        "else:\n",
        "  print(\"\\nBoth models performed similarly.\")\n"
      ],
      "metadata": {
        "id": "MlCAHQgFV-el",
        "colab": {
          "base_uri": "https://localhost:8080/"
        },
        "outputId": "e9683767-209c-4405-8b8d-54160d109234"
      },
      "execution_count": 3,
      "outputs": [
        {
          "output_type": "stream",
          "name": "stdout",
          "text": [
            "Random Forest Regressor MSE: 0.2553684927247781\n",
            "Single Decision Tree Regressor MSE: 0.495235205629094\n",
            "\n",
            "Random Forest Regressor performed better than a single Decision Tree Regressor.\n"
          ]
        }
      ]
    },
    {
      "cell_type": "code",
      "source": [
        "#Compute the Out-of-Bag (OOB) Score for a Random Forest Classifier.\n",
        "from sklearn.ensemble import RandomForestClassifier\n",
        "from sklearn.model_selection import train_test_split\n",
        "import numpy as np\n",
        "\n",
        "# Generate a sample dataset\n",
        "X_clf = np.random.rand(100, 10)\n",
        "y_clf = (X_clf.sum(axis=1) > 5).astype(int) # Simple classification based on sum of features\n",
        "\n",
        "# Split the dataset into training and testing sets\n",
        "X_train_clf, X_test_clf, y_train_clf, y_test_clf = train_test_split(X_clf, y_clf, test_size=0.2, random_state=42)\n",
        "\n",
        "# Create a Random Forest Classifier with oob_score=True\n",
        "# n_estimators: The number of trees in the forest.\n",
        "# oob_score: Whether to use out-of-bag samples to estimate the generalization accuracy.\n",
        "# random_state: Controls the randomness of the estimator.\n",
        "rf_clf = RandomForestClassifier(n_estimators=100, oob_score=True, random_state=42)\n",
        "\n",
        "# Train the Random Forest Classifier\n",
        "rf_clf.fit(X_train_clf, y_train_clf)\n",
        "\n",
        "# Print the Out-of-Bag score\n",
        "# The oob_score_ attribute is available only if oob_score is set to True.\n",
        "if rf_clf.oob_score_:\n",
        "  print(f\"Out-of-Bag (OOB) Score: {rf_clf.oob_score_}\")\n",
        "else:\n",
        "  print(\"OOB score is not available (oob_score was not set to True).\")\n"
      ],
      "metadata": {
        "id": "TKIjseV0T7OS",
        "colab": {
          "base_uri": "https://localhost:8080/"
        },
        "outputId": "f0920b52-9570-4bcc-8670-170ced219c40"
      },
      "execution_count": 5,
      "outputs": [
        {
          "output_type": "stream",
          "name": "stdout",
          "text": [
            "Out-of-Bag (OOB) Score: 0.7375\n"
          ]
        }
      ]
    },
    {
      "cell_type": "code",
      "source": [
        "#Train a Random Forest Classifier with different numbers of trees and compare accuracy.\n",
        "n_estimators_list = [10, 50, 100, 200]\n",
        "\n",
        "# Dictionary to store accuracies for each number of trees\n",
        "accuracies = {}\n",
        "\n",
        "for n_trees in n_estimators_list:\n",
        "  # Create a Random Forest Classifier with the current number of trees\n",
        "  rf_clf_tuned = RandomForestClassifier(n_estimators=n_trees, random_state=42)\n",
        "\n",
        "  # Train the Random Forest Classifier\n",
        "  rf_clf_tuned.fit(X_train_clf, y_train_clf)\n",
        "\n",
        "  # Make predictions on the test set\n",
        "  y_pred_tuned = rf_clf_tuned.predict(X_test_clf)\n",
        "\n",
        "  # Calculate the accuracy\n",
        "  accuracy_tuned = accuracy_score(y_test_clf, y_pred_tuned)\n",
        "\n",
        "  # Store the accuracy\n",
        "  accuracies[n_trees] = accuracy_tuned\n",
        "\n",
        "# Print the accuracies for each number of trees\n",
        "print(\"Accuracy with different numbers of trees:\")\n",
        "for n_trees, accuracy in accuracies.items():\n",
        "  print(f\"  Number of Trees: {n_trees}, Accuracy: {accuracy:.4f}\")\n",
        "\n",
        "# Find the number of trees with the highest accuracy\n",
        "best_n_trees = max(accuracies, key=accuracies.get)\n",
        "print(f\"\\nBest accuracy achieved with {best_n_trees} trees.\")\n"
      ],
      "metadata": {
        "colab": {
          "base_uri": "https://localhost:8080/"
        },
        "id": "QQlSPL777Xp6",
        "outputId": "65b9c095-de7b-422e-d3e9-caa8ebcdbfc3"
      },
      "execution_count": 11,
      "outputs": [
        {
          "output_type": "stream",
          "name": "stdout",
          "text": [
            "Accuracy with different numbers of trees:\n",
            "  Number of Trees: 10, Accuracy: 0.6500\n",
            "  Number of Trees: 50, Accuracy: 0.8000\n",
            "  Number of Trees: 100, Accuracy: 0.8000\n",
            "  Number of Trees: 200, Accuracy: 0.8000\n",
            "\n",
            "Best accuracy achieved with 50 trees.\n"
          ]
        }
      ]
    },
    {
      "cell_type": "code",
      "source": [
        "#Train a Random Forest Regressor and analyze feature importance scores.\n",
        "feature_importances = rf_reg.feature_importances_\n",
        "\n",
        "# Get the feature names (if available in the dataset, otherwise use indices)\n",
        "feature_names = california.feature_names\n",
        "\n",
        "# Create a pandas Series for easier handling and sorting\n",
        "import pandas as pd\n",
        "importance_series = pd.Series(feature_importances, index=feature_names)\n",
        "\n",
        "# Sort the feature importances in descending order\n",
        "sorted_importance = importance_series.sort_values(ascending=False)\n",
        "\n",
        "# Print the feature importance scores\n",
        "print(\"\\nFeature Importance Scores (Random Forest Regressor):\")\n",
        "print(sorted_importance)\n",
        "\n",
        "# You can optionally visualize the feature importances\n",
        "import matplotlib.pyplot as plt\n",
        "\n",
        "plt.figure(figsize=(10, 6))\n",
        "sorted_importance.plot(kind='bar')\n",
        "plt.title('Feature Importance Scores')\n",
        "plt.xlabel('Features')\n",
        "plt.ylabel('Importance Score')\n",
        "plt.xticks(rotation=45, ha='right')\n",
        "plt.tight_layout()\n",
        "plt.show()"
      ],
      "metadata": {
        "colab": {
          "base_uri": "https://localhost:8080/",
          "height": 798
        },
        "id": "6h5pWHlI7X99",
        "outputId": "aa2190fb-1440-4d1a-bc04-b6fad2726025"
      },
      "execution_count": 17,
      "outputs": [
        {
          "output_type": "stream",
          "name": "stdout",
          "text": [
            "\n",
            "Feature Importance Scores (Random Forest Regressor):\n",
            "MedInc        0.524871\n",
            "AveOccup      0.138443\n",
            "Latitude      0.088936\n",
            "Longitude     0.088629\n",
            "HouseAge      0.054593\n",
            "AveRooms      0.044272\n",
            "Population    0.030650\n",
            "AveBedrms     0.029606\n",
            "dtype: float64\n"
          ]
        },
        {
          "output_type": "display_data",
          "data": {
            "text/plain": [
              "<Figure size 1000x600 with 1 Axes>"
            ],
            "image/png": "[encoded data removed]"
          },
          "metadata": {}
        }
      ]
    },
    {
      "cell_type": "code",
      "source": [
        "#Train a Random Forest Classifier and tune hyperparameters using GridSearchCV.\n",
        "from sklearn.model_selection import GridSearchCV\n",
        "from sklearn.datasets import make_classification\n",
        "\n",
        "# Generate a sample classification dataset\n",
        "X_tuned, y_tuned = make_classification(n_samples=200, n_features=10, n_informative=5, n_redundant=2, random_state=42)\n",
        "\n",
        "# Split the dataset into training and testing sets\n",
        "X_train_tuned, X_test_tuned, y_train_tuned, y_test_tuned = train_test_split(X_tuned, y_tuned, test_size=0.2, random_state=42)\n",
        "\n",
        "# Define the parameter grid to search\n",
        "param_grid = {\n",
        "    'n_estimators': [50, 100, 150],\n",
        "    'max_depth': [None, 10, 20],\n",
        "    'min_samples_split': [2, 5, 10],\n",
        "    'min_samples_leaf': [1, 2, 4]\n",
        "}\n",
        "\n",
        "# Create a Random Forest Classifier\n",
        "rf_clf_grid = RandomForestClassifier(random_state=42)\n",
        "\n",
        "# Create the GridSearchCV object\n",
        "# estimator: The model to tune\n",
        "# param_grid: The parameter grid to search\n",
        "# cv: The number of cross-validation folds\n",
        "# scoring: The metric to evaluate the model (e.g., 'accuracy' for classification)\n",
        "# n_jobs: Number of jobs to run in parallel (-1 means use all available cores)\n",
        "grid_search = GridSearchCV(estimator=rf_clf_grid, param_grid=param_grid, cv=5, scoring='accuracy', n_jobs=-1)\n",
        "\n",
        "# Perform the grid search on the training data\n",
        "grid_search.fit(X_train_tuned, y_train_tuned)\n",
        "\n",
        "# Print the best parameters found\n",
        "print(\"\\nBest parameters found by GridSearchCV:\")\n",
        "print(grid_search.best_params_)\n",
        "\n",
        "# Get the best estimator (the model with the best parameters)\n",
        "best_rf_clf = grid_search.best_estimator_\n",
        "\n",
        "# Make predictions on the test set using the best model\n",
        "y_pred_best = best_rf_clf.predict(X_test_tuned)\n",
        "\n",
        "# Calculate and print the accuracy of the best model\n",
        "accuracy_best = accuracy_score(y_test_tuned, y_pred_best)\n",
        "print(f\"\\nAccuracy of the best Random Forest Classifier after tuning: {accuracy_best:.4f}\")\n"
      ],
      "metadata": {
        "colab": {
          "base_uri": "https://localhost:8080/",
          "height": 356
        },
        "id": "XWUDpOm18UAX",
        "outputId": "65101878-52de-4e6e-9c37-a8fbff467c43"
      },
      "execution_count": 23,
      "outputs": [
        {
          "output_type": "error",
          "ename": "KeyboardInterrupt",
          "evalue": "",
          "traceback": [
            "\u001b[0;31m---------------------------------------------------------------------------\u001b[0m",
            "\u001b[0;31mKeyboardInterrupt\u001b[0m                         Traceback (most recent call last)",
            "\u001b[0;32m<ipython-input-23-ad99df6b9182>\u001b[0m in \u001b[0;36m<cell line: 0>\u001b[0;34m()\u001b[0m\n\u001b[1;32m     29\u001b[0m \u001b[0;34m\u001b[0m\u001b[0m\n\u001b[1;32m     30\u001b[0m \u001b[0;31m# Perform the grid search on the training data\u001b[0m\u001b[0;34m\u001b[0m\u001b[0;34m\u001b[0m\u001b[0m\n\u001b[0;32m---> 31\u001b[0;31m \u001b[0mgrid_search\u001b[0m\u001b[0;34m.\u001b[0m\u001b[0mfit\u001b[0m\u001b[0;34m(\u001b[0m\u001b[0mX_train_tuned\u001b[0m\u001b[0;34m,\u001b[0m \u001b[0my_train_tuned\u001b[0m\u001b[0;34m)\u001b[0m\u001b[0;34m\u001b[0m\u001b[0;34m\u001b[0m\u001b[0m\n\u001b[0m\u001b[1;32m     32\u001b[0m \u001b[0;34m\u001b[0m\u001b[0m\n\u001b[1;32m     33\u001b[0m \u001b[0;31m# Print the best parameters found\u001b[0m\u001b[0;34m\u001b[0m\u001b[0;34m\u001b[0m\u001b[0m\n",
            "\u001b[0;32m/usr/local/lib/python3.11/dist-packages/sklearn/base.py\u001b[0m in \u001b[0;36mwrapper\u001b[0;34m(estimator, *args, **kwargs)\u001b[0m\n\u001b[1;32m   1387\u001b[0m                 )\n\u001b[1;32m   1388\u001b[0m             ):\n\u001b[0;32m-> 1389\u001b[0;31m                 \u001b[0;32mreturn\u001b[0m \u001b[0mfit_method\u001b[0m\u001b[0;34m(\u001b[0m\u001b[0mestimator\u001b[0m\u001b[0;34m,\u001b[0m \u001b[0;34m*\u001b[0m\u001b[0margs\u001b[0m\u001b[0;34m,\u001b[0m \u001b[0;34m**\u001b[0m\u001b[0mkwargs\u001b[0m\u001b[0;34m)\u001b[0m\u001b[0;34m\u001b[0m\u001b[0;34m\u001b[0m\u001b[0m\n\u001b[0m\u001b[1;32m   1390\u001b[0m \u001b[0;34m\u001b[0m\u001b[0m\n\u001b[1;32m   1391\u001b[0m         \u001b[0;32mreturn\u001b[0m \u001b[0mwrapper\u001b[0m\u001b[0;34m\u001b[0m\u001b[0;34m\u001b[0m\u001b[0m\n",
            "\u001b[0;32m/usr/local/lib/python3.11/dist-packages/sklearn/model_selection/_search.py\u001b[0m in \u001b[0;36mfit\u001b[0;34m(self, X, y, **params)\u001b[0m\n\u001b[1;32m   1022\u001b[0m                 \u001b[0;32mreturn\u001b[0m \u001b[0mresults\u001b[0m\u001b[0;34m\u001b[0m\u001b[0;34m\u001b[0m\u001b[0m\n\u001b[1;32m   1023\u001b[0m \u001b[0;34m\u001b[0m\u001b[0m\n\u001b[0;32m-> 1024\u001b[0;31m             \u001b[0mself\u001b[0m\u001b[0;34m.\u001b[0m\u001b[0m_run_search\u001b[0m\u001b[0;34m(\u001b[0m\u001b[0mevaluate_candidates\u001b[0m\u001b[0;34m)\u001b[0m\u001b[0;34m\u001b[0m\u001b[0;34m\u001b[0m\u001b[0m\n\u001b[0m\u001b[1;32m   1025\u001b[0m \u001b[0;34m\u001b[0m\u001b[0m\n\u001b[1;32m   1026\u001b[0m             \u001b[0;31m# multimetric is determined here because in the case of a callable\u001b[0m\u001b[0;34m\u001b[0m\u001b[0;34m\u001b[0m\u001b[0m\n",
            "\u001b[0;32m/usr/local/lib/python3.11/dist-packages/sklearn/model_selection/_search.py\u001b[0m in \u001b[0;36m_run_search\u001b[0;34m(self, evaluate_candidates)\u001b[0m\n\u001b[1;32m   1569\u001b[0m     \u001b[0;32mdef\u001b[0m \u001b[0m_run_search\u001b[0m\u001b[0;34m(\u001b[0m\u001b[0mself\u001b[0m\u001b[0;34m,\u001b[0m \u001b[0mevaluate_candidates\u001b[0m\u001b[0;34m)\u001b[0m\u001b[0;34m:\u001b[0m\u001b[0;34m\u001b[0m\u001b[0;34m\u001b[0m\u001b[0m\n\u001b[1;32m   1570\u001b[0m         \u001b[0;34m\"\"\"Search all candidates in param_grid\"\"\"\u001b[0m\u001b[0;34m\u001b[0m\u001b[0;34m\u001b[0m\u001b[0m\n\u001b[0;32m-> 1571\u001b[0;31m         \u001b[0mevaluate_candidates\u001b[0m\u001b[0;34m(\u001b[0m\u001b[0mParameterGrid\u001b[0m\u001b[0;34m(\u001b[0m\u001b[0mself\u001b[0m\u001b[0;34m.\u001b[0m\u001b[0mparam_grid\u001b[0m\u001b[0;34m)\u001b[0m\u001b[0;34m)\u001b[0m\u001b[0;34m\u001b[0m\u001b[0;34m\u001b[0m\u001b[0m\n\u001b[0m\u001b[1;32m   1572\u001b[0m \u001b[0;34m\u001b[0m\u001b[0m\n\u001b[1;32m   1573\u001b[0m \u001b[0;34m\u001b[0m\u001b[0m\n",
            "\u001b[0;32m/usr/local/lib/python3.11/dist-packages/sklearn/model_selection/_search.py\u001b[0m in \u001b[0;36mevaluate_candidates\u001b[0;34m(candidate_params, cv, more_results)\u001b[0m\n\u001b[1;32m    968\u001b[0m                     )\n\u001b[1;32m    969\u001b[0m \u001b[0;34m\u001b[0m\u001b[0m\n\u001b[0;32m--> 970\u001b[0;31m                 out = parallel(\n\u001b[0m\u001b[1;32m    971\u001b[0m                     delayed(_fit_and_score)(\n\u001b[1;32m    972\u001b[0m                         \u001b[0mclone\u001b[0m\u001b[0;34m(\u001b[0m\u001b[0mbase_estimator\u001b[0m\u001b[0;34m)\u001b[0m\u001b[0;34m,\u001b[0m\u001b[0;34m\u001b[0m\u001b[0;34m\u001b[0m\u001b[0m\n",
            "\u001b[0;32m/usr/local/lib/python3.11/dist-packages/sklearn/utils/parallel.py\u001b[0m in \u001b[0;36m__call__\u001b[0;34m(self, iterable)\u001b[0m\n\u001b[1;32m     75\u001b[0m             \u001b[0;32mfor\u001b[0m \u001b[0mdelayed_func\u001b[0m\u001b[0;34m,\u001b[0m \u001b[0margs\u001b[0m\u001b[0;34m,\u001b[0m \u001b[0mkwargs\u001b[0m \u001b[0;32min\u001b[0m \u001b[0miterable\u001b[0m\u001b[0;34m\u001b[0m\u001b[0;34m\u001b[0m\u001b[0m\n\u001b[1;32m     76\u001b[0m         )\n\u001b[0;32m---> 77\u001b[0;31m         \u001b[0;32mreturn\u001b[0m \u001b[0msuper\u001b[0m\u001b[0;34m(\u001b[0m\u001b[0;34m)\u001b[0m\u001b[0;34m.\u001b[0m\u001b[0m__call__\u001b[0m\u001b[0;34m(\u001b[0m\u001b[0miterable_with_config\u001b[0m\u001b[0;34m)\u001b[0m\u001b[0;34m\u001b[0m\u001b[0;34m\u001b[0m\u001b[0m\n\u001b[0m\u001b[1;32m     78\u001b[0m \u001b[0;34m\u001b[0m\u001b[0m\n\u001b[1;32m     79\u001b[0m \u001b[0;34m\u001b[0m\u001b[0m\n",
            "\u001b[0;32m/usr/local/lib/python3.11/dist-packages/joblib/parallel.py\u001b[0m in \u001b[0;36m__call__\u001b[0;34m(self, iterable)\u001b[0m\n\u001b[1;32m   2069\u001b[0m         \u001b[0mnext\u001b[0m\u001b[0;34m(\u001b[0m\u001b[0moutput\u001b[0m\u001b[0;34m)\u001b[0m\u001b[0;34m\u001b[0m\u001b[0;34m\u001b[0m\u001b[0m\n\u001b[1;32m   2070\u001b[0m \u001b[0;34m\u001b[0m\u001b[0m\n\u001b[0;32m-> 2071\u001b[0;31m         \u001b[0;32mreturn\u001b[0m \u001b[0moutput\u001b[0m \u001b[0;32mif\u001b[0m \u001b[0mself\u001b[0m\u001b[0;34m.\u001b[0m\u001b[0mreturn_generator\u001b[0m \u001b[0;32melse\u001b[0m \u001b[0mlist\u001b[0m\u001b[0;34m(\u001b[0m\u001b[0moutput\u001b[0m\u001b[0;34m)\u001b[0m\u001b[0;34m\u001b[0m\u001b[0;34m\u001b[0m\u001b[0m\n\u001b[0m\u001b[1;32m   2072\u001b[0m \u001b[0;34m\u001b[0m\u001b[0m\n\u001b[1;32m   2073\u001b[0m     \u001b[0;32mdef\u001b[0m \u001b[0m__repr__\u001b[0m\u001b[0;34m(\u001b[0m\u001b[0mself\u001b[0m\u001b[0;34m)\u001b[0m\u001b[0;34m:\u001b[0m\u001b[0;34m\u001b[0m\u001b[0;34m\u001b[0m\u001b[0m\n",
            "\u001b[0;32m/usr/local/lib/python3.11/dist-packages/joblib/parallel.py\u001b[0m in \u001b[0;36m_get_outputs\u001b[0;34m(self, iterator, pre_dispatch)\u001b[0m\n\u001b[1;32m   1679\u001b[0m \u001b[0;34m\u001b[0m\u001b[0m\n\u001b[1;32m   1680\u001b[0m             \u001b[0;32mwith\u001b[0m \u001b[0mself\u001b[0m\u001b[0;34m.\u001b[0m\u001b[0m_backend\u001b[0m\u001b[0;34m.\u001b[0m\u001b[0mretrieval_context\u001b[0m\u001b[0;34m(\u001b[0m\u001b[0;34m)\u001b[0m\u001b[0;34m:\u001b[0m\u001b[0;34m\u001b[0m\u001b[0;34m\u001b[0m\u001b[0m\n\u001b[0;32m-> 1681\u001b[0;31m                 \u001b[0;32myield\u001b[0m \u001b[0;32mfrom\u001b[0m \u001b[0mself\u001b[0m\u001b[0;34m.\u001b[0m\u001b[0m_retrieve\u001b[0m\u001b[0;34m(\u001b[0m\u001b[0;34m)\u001b[0m\u001b[0;34m\u001b[0m\u001b[0;34m\u001b[0m\u001b[0m\n\u001b[0m\u001b[1;32m   1682\u001b[0m \u001b[0;34m\u001b[0m\u001b[0m\n\u001b[1;32m   1683\u001b[0m         \u001b[0;32mexcept\u001b[0m \u001b[0mGeneratorExit\u001b[0m\u001b[0;34m:\u001b[0m\u001b[0;34m\u001b[0m\u001b[0;34m\u001b[0m\u001b[0m\n",
            "\u001b[0;32m/usr/local/lib/python3.11/dist-packages/joblib/parallel.py\u001b[0m in \u001b[0;36m_retrieve\u001b[0;34m(self)\u001b[0m\n\u001b[1;32m   1797\u001b[0m                     \u001b[0mself\u001b[0m\u001b[0;34m.\u001b[0m\u001b[0m_jobs\u001b[0m\u001b[0;34m[\u001b[0m\u001b[0;36m0\u001b[0m\u001b[0;34m]\u001b[0m\u001b[0;34m.\u001b[0m\u001b[0mget_status\u001b[0m\u001b[0;34m(\u001b[0m\u001b[0mtimeout\u001b[0m\u001b[0;34m=\u001b[0m\u001b[0mself\u001b[0m\u001b[0;34m.\u001b[0m\u001b[0mtimeout\u001b[0m\u001b[0;34m)\u001b[0m \u001b[0;34m==\u001b[0m \u001b[0mTASK_PENDING\u001b[0m\u001b[0;34m\u001b[0m\u001b[0;34m\u001b[0m\u001b[0m\n\u001b[1;32m   1798\u001b[0m                 ):\n\u001b[0;32m-> 1799\u001b[0;31m                     \u001b[0mtime\u001b[0m\u001b[0;34m.\u001b[0m\u001b[0msleep\u001b[0m\u001b[0;34m(\u001b[0m\u001b[0;36m0.01\u001b[0m\u001b[0;34m)\u001b[0m\u001b[0;34m\u001b[0m\u001b[0;34m\u001b[0m\u001b[0m\n\u001b[0m\u001b[1;32m   1800\u001b[0m                     \u001b[0;32mcontinue\u001b[0m\u001b[0;34m\u001b[0m\u001b[0;34m\u001b[0m\u001b[0m\n\u001b[1;32m   1801\u001b[0m \u001b[0;34m\u001b[0m\u001b[0m\n",
            "\u001b[0;31mKeyboardInterrupt\u001b[0m: "
          ]
        }
      ]
    },
    {
      "cell_type": "code",
      "source": [
        "#Train a Random Forest Classifier and analyze misclassified samples.\n",
        "import pandas as pd\n",
        "import numpy as np\n",
        "# Find misclassified samples\n",
        "misclassified_indices = np.where(y_test_clf != y_pred_tuned)[0]\n",
        "misclassified_samples = X_test_clf[misclassified_indices]\n",
        "actual_labels = y_test_clf[misclassified_indices]\n",
        "predicted_labels = y_pred_tuned[misclassified_indices]\n",
        "\n",
        "print(f\"\\nNumber of misclassified samples: {len(misclassified_indices)}\")\n",
        "if len(misclassified_indices) > 0:\n",
        "  print(\"\\nMisclassified Samples (Feature values, Actual Label, Predicted Label):\")\n",
        "  for i in range(len(misclassified_indices)):\n",
        "    print(f\"  Sample {misclassified_indices[i]}: {misclassified_samples[i]}, Actual: {actual_labels[i]}, Predicted: {predicted_labels[i]}\")\n",
        "\n",
        "# Analyze patterns in misclassified samples (qualitative analysis)\n",
        "# You would need to look at the feature values of the misclassified samples\n",
        "# and try to identify any common characteristics that might be leading to misclassification.\n",
        "# This often requires domain knowledge about the data.\n",
        "# For this generic example, we can just print some information.\n",
        "\n",
        "if len(misclassified_indices) > 0:\n",
        "  print(\"\\nAnalyzing misclassified samples...\")\n",
        "  # Example: Calculate the mean of feature values for misclassified samples\n",
        "  mean_misclassified_features = np.mean(misclassified_samples, axis=0)\n",
        "  print(f\"Mean feature values for misclassified samples: {mean_misclassified_features}\")\n",
        "\n",
        "  # You could also look at the distribution of actual vs predicted labels\n",
        "  misclassified_actual_counts = pd.Series(actual_labels).value_counts().sort_index()\n",
        "  misclassified_predicted_counts = pd.Series(predicted_labels).value_counts().sort_index()\n",
        "  print(\"\\nDistribution of actual labels in misclassified samples:\")\n",
        "  print(misclassified_actual_counts)\n",
        "  print(\"\\nDistribution of predicted labels in misclassified samples:\")\n",
        "misclassified_predicted_counts"
      ],
      "metadata": {
        "colab": {
          "base_uri": "https://localhost:8080/",
          "height": 824
        },
        "id": "9tkheC0o8UT3",
        "outputId": "7ed0d247-54c2-4a2a-e83e-858372bb36fa"
      },
      "execution_count": 26,
      "outputs": [
        {
          "output_type": "stream",
          "name": "stdout",
          "text": [
            "\n",
            "Number of misclassified samples: 12\n",
            "\n",
            "Misclassified Samples (Feature values, Actual Label, Predicted Label):\n",
            "  Sample 1: [0.01197298 0.79975354 0.24529486 0.23907761 0.62145226 0.21952991\n",
            " 0.97761459 0.97626107 0.05727265 0.30691136], Actual: 0, Predicted: 1\n",
            "  Sample 2: [0.81824031 0.3616604  0.01104532 0.24154698 0.23608371 0.20009545\n",
            " 0.65460152 0.92476545 0.48725453 0.49098601], Actual: 0, Predicted: 1\n",
            "  Sample 3: [0.85881409 0.05565368 0.99363243 0.94957671 0.28334049 0.27600726\n",
            " 0.02618221 0.25799809 0.46973202 0.77220153], Actual: 0, Predicted: 1\n",
            "  Sample 6: [0.3214033  0.67959474 0.84945286 0.82309767 0.92468166 0.25389771\n",
            " 0.62284519 0.15838452 0.97340192 0.07269774], Actual: 1, Predicted: 0\n",
            "  Sample 7: [0.62114428 0.63034535 0.57661447 0.84854556 0.44681536 0.40935217\n",
            " 0.69362289 0.7220996  0.81309896 0.14171699], Actual: 1, Predicted: 0\n",
            "  Sample 9: [0.04002637 0.6437463  0.08101265 0.62464982 0.98891544 0.12167039\n",
            " 0.88384709 0.05370589 0.03552979 0.60019272], Actual: 0, Predicted: 1\n",
            "  Sample 10: [0.57255575 0.62889414 0.64816786 0.06871088 0.14221583 0.20532938\n",
            " 0.20807589 0.586614   0.17144082 0.58399658], Actual: 0, Predicted: 1\n",
            "  Sample 13: [0.60975701 0.42812701 0.12897943 0.11967811 0.15658571 0.22787073\n",
            " 0.06982736 0.50843821 0.29799346 0.43179474], Actual: 0, Predicted: 1\n",
            "  Sample 14: [0.96391016 0.50320777 0.78615922 0.39701005 0.12695001 0.07821254\n",
            " 0.79687521 0.61411707 0.88943791 0.66816723], Actual: 1, Predicted: 0\n",
            "  Sample 15: [0.12570367 0.88921861 0.42707639 0.86354955 0.40180811 0.31572242\n",
            " 0.90686596 0.20045412 0.7661128  0.68226736], Actual: 1, Predicted: 0\n",
            "  Sample 16: [0.58271171 0.31029357 0.4516657  0.54876103 0.68581497 0.26631624\n",
            " 0.03595838 0.1107835  0.02059745 0.28284554], Actual: 0, Predicted: 1\n",
            "  Sample 19: [0.64078275 0.14697339 0.0112409  0.5773391  0.23037539 0.23871871\n",
            " 0.5629078  0.04734365 0.95787955 0.4046423 ], Actual: 0, Predicted: 1\n",
            "\n",
            "Analyzing misclassified samples...\n",
            "Mean feature values for misclassified samples: [0.51391853 0.50645571 0.43419517 0.52512859 0.43708658 0.23439357\n",
            " 0.53660201 0.43008043 0.49497932 0.45320168]\n",
            "\n",
            "Distribution of actual labels in misclassified samples:\n",
            "0    8\n",
            "1    4\n",
            "Name: count, dtype: int64\n",
            "\n",
            "Distribution of predicted labels in misclassified samples:\n"
          ]
        },
        {
          "output_type": "execute_result",
          "data": {
            "text/plain": [
              "0    4\n",
              "1    8\n",
              "Name: count, dtype: int64"
            ],
            "text/html": [
              "<div>\n",
              "<style scoped>\n",
              "    .dataframe tbody tr th:only-of-type {\n",
              "        vertical-align: middle;\n",
              "    }\n",
              "\n",
              "    .dataframe tbody tr th {\n",
              "        vertical-align: top;\n",
              "    }\n",
              "\n",
              "    .dataframe thead th {\n",
              "        text-align: right;\n",
              "    }\n",
              "</style>\n",
              "<table border=\"1\" class=\"dataframe\">\n",
              "  <thead>\n",
              "    <tr style=\"text-align: right;\">\n",
              "      <th></th>\n",
              "      <th>count</th>\n",
              "    </tr>\n",
              "  </thead>\n",
              "  <tbody>\n",
              "    <tr>\n",
              "      <th>0</th>\n",
              "      <td>4</td>\n",
              "    </tr>\n",
              "    <tr>\n",
              "      <th>1</th>\n",
              "      <td>8</td>\n",
              "    </tr>\n",
              "  </tbody>\n",
              "</table>\n",
              "</div><br><label><b>dtype:</b> int64</label>"
            ]
          },
          "metadata": {},
          "execution_count": 26
        }
      ]
    },
    {
      "cell_type": "code",
      "source": [
        "#Train a Random Forest Classifier and visualize the confusion matrix.\n",
        "import matplotlib.pyplot as plt\n",
        "from sklearn.metrics import confusion_matrix, ConfusionMatrixDisplay\n",
        "\n",
        "# Assuming X_train_clf, X_test_clf, y_train_clf, y_test_clf are already defined and the RandomForestClassifier `rf_clf` is trained\n",
        "\n",
        "# Make predictions on the test set\n",
        "y_pred_viz = rf_clf.predict(X_test_clf)\n",
        "\n",
        "# Generate the confusion matrix\n",
        "cm = confusion_matrix(y_test_clf, y_pred_viz)\n",
        "\n",
        "# Visualize the confusion matrix\n",
        "# display_labels: The labels to display on the confusion matrix.\n",
        "disp = ConfusionMatrixDisplay(confusion_matrix=cm, display_labels=rf_clf.classes_)\n",
        "disp.plot()\n",
        "plt.title('Confusion Matrix for Random Forest Classifier')\n",
        "plt.show()\n"
      ],
      "metadata": {
        "colab": {
          "base_uri": "https://localhost:8080/",
          "height": 472
        },
        "id": "fqEBgvqY8Uj9",
        "outputId": "e19ec889-bdb3-4217-feeb-a7db19002c99"
      },
      "execution_count": 31,
      "outputs": [
        {
          "output_type": "display_data",
          "data": {
            "text/plain": [
              "<Figure size 640x480 with 2 Axes>"
            ],
            "image/png": "[encoded data removed]"
          },
          "metadata": {}
        }
      ]
    },
    {
      "cell_type": "code",
      "source": [
        "#Train a Stacking Classifier using Decision Trees, SVM, and Logistic Regression, and compare accuracy.\n",
        "from sklearn.ensemble import StackingClassifier\n",
        "from sklearn.tree import DecisionTreeClassifier\n",
        "from sklearn.svm import SVC\n",
        "from sklearn.linear_model import LogisticRegression\n",
        "from sklearn.model_selection import train_test_split\n",
        "from sklearn.metrics import accuracy_score\n",
        "from sklearn.datasets import make_classification\n",
        "\n",
        "# Generate a sample classification dataset\n",
        "X_stack, y_stack = make_classification(n_samples=300, n_features=15, n_informative=8, n_redundant=3, random_state=42)\n",
        "\n",
        "# Split the dataset into training and testing sets\n",
        "X_train_stack, X_test_stack, y_train_stack, y_test_stack = train_test_split(X_stack, y_stack, test_size=0.2, random_state=42)\n",
        "\n",
        "# Define the base estimators\n",
        "estimators = [\n",
        "    ('dt', DecisionTreeClassifier(random_state=42)),\n",
        "    ('svm', SVC(probability=True, random_state=42)), # SVC needs probability=True for stacking\n",
        "    ('lr', LogisticRegression(random_state=42))\n",
        "]\n",
        "\n",
        "# Define the meta-estimator (final classifier)\n",
        "# Logistic Regression is commonly used as a meta-estimator\n",
        "meta_estimator = LogisticRegression(random_state=42)\n",
        "\n",
        "# Create the Stacking Classifier\n",
        "# estimators: List of (name, estimator) tuples for the base models.\n",
        "# final_estimator: The meta-estimator that combines the predictions of the base models.\n",
        "# cv: Number of cross-validation folds to use for the base models.\n",
        "stacking_clf = StackingClassifier(estimators=estimators, final_estimator=meta_estimator, cv=5)\n",
        "\n",
        "# Train the Stacking Classifier\n",
        "stacking_clf.fit(X_train_stack, y_train_stack)\n",
        "\n",
        "# Make predictions on the test set\n",
        "y_pred_stack = stacking_clf.predict(X_test_stack)\n",
        "\n",
        "# Calculate and print the accuracy of the Stacking Classifier\n",
        "accuracy_stack = accuracy_score(y_test_stack, y_pred_stack)\n",
        "print(f\"Stacking Classifier Accuracy: {accuracy_stack:.4f}\")\n",
        "\n",
        "# Train and evaluate individual base models for comparison\n",
        "dt_clf = DecisionTreeClassifier(random_state=42)\n",
        "dt_clf.fit(X_train_stack, y_train_stack)\n",
        "y_pred_dt_stack = dt_clf.predict(X_test_stack)\n",
        "accuracy_dt_stack = accuracy_score(y_test_stack, y_pred_dt_stack)\n",
        "print(f\"Decision Tree Accuracy: {accuracy_dt_stack:.4f}\")\n",
        "\n",
        "svm_clf = SVC(random_state=42) # No probability needed for direct comparison\n",
        "svm_clf.fit(X_train_stack, y_train_stack)\n",
        "y_pred_svm_stack = svm_clf.predict(X_test_stack)\n",
        "accuracy_svm_stack = accuracy_score(y_test_stack, y_pred_svm_stack)\n",
        "print(f\"SVM Accuracy: {accuracy_svm_stack:.4f}\")\n",
        "\n",
        "lr_clf = LogisticRegression(random_state=42)\n",
        "lr_clf.fit(X_train_stack, y_train_stack)\n",
        "y_pred_lr_stack = lr_clf.predict(X_test_stack)\n",
        "accuracy_lr_stack = accuracy_score(y_test_stack, y_pred_lr_stack)\n",
        "print(f\"Logistic Regression Accuracy: {accuracy_lr_stack:.4f}\")\n",
        "\n",
        "# Compare accuracies\n",
        "print(\"\\nAccuracy Comparison:\")\n",
        "print(f\"  Stacking Classifier: {accuracy_stack:.4f}\")\n",
        "print(f\"  Decision Tree:       {accuracy_dt_stack:.4f}\")\n",
        "print(f\"  SVM:                 {accuracy_svm_stack:.4f}\")\n",
        "print(f\"  Logistic Regression: {accuracy_lr_stack:.4f}\")"
      ],
      "metadata": {
        "colab": {
          "base_uri": "https://localhost:8080/"
        },
        "id": "Gv_gUjtP-tC0",
        "outputId": "fe67ae62-194f-4e0c-fecc-297f29e2c054"
      },
      "execution_count": 34,
      "outputs": [
        {
          "output_type": "stream",
          "name": "stdout",
          "text": [
            "Stacking Classifier Accuracy: 0.8667\n",
            "Decision Tree Accuracy: 0.6833\n",
            "SVM Accuracy: 0.8333\n",
            "Logistic Regression Accuracy: 0.7167\n",
            "\n",
            "Accuracy Comparison:\n",
            "  Stacking Classifier: 0.8667\n",
            "  Decision Tree:       0.6833\n",
            "  SVM:                 0.8333\n",
            "  Logistic Regression: 0.7167\n"
          ]
        }
      ]
    },
    {
      "cell_type": "code",
      "source": [
        "# Train a Random Forest Classifier and print the top 5 most important features.\n",
        "import pandas as pd\n",
        "import matplotlib.pyplot as plt\n",
        "#Train a Random Forest Classifier and print the top 5 most important features\n",
        "\n",
        "# Assuming X_train_clf and y_train_clf are already defined and the RandomForestClassifier `rf_clf` is trained\n",
        "# and that you have feature names available or can use indices\n",
        "\n",
        "# Get the feature importances from the trained Random Forest Classifier\n",
        "feature_importances_clf = rf_clf.feature_importances_\n",
        "\n",
        "# Get the feature names. If you don't have specific feature names, you can create generic ones\n",
        "# based on the number of features.\n",
        "try:\n",
        "    # If using a standard dataset like from sklearn, feature_names might be available\n",
        "    feature_names_clf = X_clf.columns.tolist() # Assuming X_clf is a pandas DataFrame\n",
        "except AttributeError:\n",
        "    # Otherwise, create generic feature names\n",
        "    feature_names_clf = [f'Feature {i+1}' for i in range(X_train_clf.shape[1])]\n",
        "\n",
        "\n",
        "# Create a pandas Series for easier handling and sorting\n",
        "importance_series_clf = pd.Series(feature_importances_clf, index=feature_names_clf)\n",
        "\n",
        "# Sort the feature importances in descending order\n",
        "sorted_importance_clf = importance_series_clf.sort_values(ascending=False)\n",
        "\n",
        "# Print the top 5 most important features\n",
        "print(\"\\nTop 5 Most Important Features (Random Forest Classifier):\")\n",
        "print(sorted_importance_clf.head(5))\n",
        "\n",
        "# You can also visualize the top features\n",
        "plt.figure(figsize=(10, 6))\n",
        "sorted_importance_clf.head(5).plot(kind='bar')\n",
        "plt.title('Top 5 Most Important Features (Random Forest Classifier)')\n",
        "plt.xlabel('Features')\n",
        "plt.ylabel('Importance Score')\n",
        "plt.xticks(rotation=45, ha='right')\n",
        "plt.tight_layout()\n",
        "plt.show()"
      ],
      "metadata": {
        "colab": {
          "base_uri": "https://localhost:8080/",
          "height": 746
        },
        "id": "92Xgg9qx-tX3",
        "outputId": "4575b77b-33bf-428e-bf2d-ea4825c5262d"
      },
      "execution_count": 36,
      "outputs": [
        {
          "output_type": "stream",
          "name": "stdout",
          "text": [
            "\n",
            "Top 5 Most Important Features (Random Forest Classifier):\n",
            "Feature 4     0.181628\n",
            "Feature 3     0.149424\n",
            "Feature 1     0.138128\n",
            "Feature 6     0.102784\n",
            "Feature 10    0.089200\n",
            "dtype: float64\n"
          ]
        },
        {
          "output_type": "display_data",
          "data": {
            "text/plain": [
              "<Figure size 1000x600 with 1 Axes>"
            ],
            "image/png": "[encoded data removed]"
          },
          "metadata": {}
        }
      ]
    },
    {
      "cell_type": "code",
      "source": [
        "#Train a Random Forest Classifier and analyze the effect of max_depth on accuracy.\n",
        "import matplotlib.pyplot as plt\n",
        "# Define a range of max_depth values to explore\n",
        "max_depth_list = [1, 5, 10, 15, 20, None]\n",
        "\n",
        "# Dictionary to store accuracies for each max_depth\n",
        "accuracies_depth = {}\n",
        "\n",
        "# Generate a sample dataset if not already available and split it\n",
        "# (Using the same X_clf, y_clf, X_train_clf, X_test_clf, y_train_clf, y_test_clf from previous steps)\n",
        "if 'X_train_clf' not in locals():\n",
        "    X_clf, y_clf = make_classification(n_samples=200, n_features=10, n_informative=5, n_redundant=2, random_state=42)\n",
        "    X_train_clf, X_test_clf, y_train_clf, y_test_clf = train_test_split(X_clf, y_clf, test_size=0.2, random_state=42)\n",
        "\n",
        "\n",
        "for depth in max_depth_list:\n",
        "  # Create a Random Forest Classifier with the current max_depth\n",
        "  # Use a fixed n_estimators for consistency\n",
        "  rf_clf_depth = RandomForestClassifier(n_estimators=100, max_depth=depth, random_state=42)\n",
        "\n",
        "  # Train the Random Forest Classifier\n",
        "  rf_clf_depth.fit(X_train_clf, y_train_clf)\n",
        "\n",
        "  # Make predictions on the test set\n",
        "  y_pred_depth = rf_clf_depth.predict(X_test_clf)\n",
        "\n",
        "  # Calculate the accuracy\n",
        "  accuracy_depth = accuracy_score(y_test_clf, y_pred_depth)\n",
        "\n",
        "  # Store the accuracy\n",
        "  accuracies_depth[depth] = accuracy_depth\n",
        "\n",
        "# Print the accuracies for each max_depth\n",
        "print(\"\\nAccuracy with different max_depth values:\")\n",
        "for depth, accuracy in accuracies_depth.items():\n",
        "  print(f\"  max_depth: {depth}, Accuracy: {accuracy:.4f}\")\n",
        "\n",
        "# Visualize the effect of max_depth on accuracy\n",
        "plt.figure(figsize=(8, 5))\n",
        "# Convert keys to strings for plotting if None is present\n",
        "plot_keys = [str(d) for d in accuracies_depth.keys()]\n",
        "plt.plot(plot_keys, accuracies_depth.values(), marker='o')\n",
        "plt.title('Effect of max_depth on Random Forest Classifier Accuracy')\n",
        "plt.xlabel('max_depth')\n",
        "plt.ylabel('Accuracy')\n",
        "plt.grid(True)\n",
        "plt.show()"
      ],
      "metadata": {
        "colab": {
          "base_uri": "https://localhost:8080/",
          "height": 626
        },
        "id": "8itIiXG3_fp2",
        "outputId": "0875c3f9-bd21-40aa-89c9-d8fdcac1a1cd"
      },
      "execution_count": 41,
      "outputs": [
        {
          "output_type": "stream",
          "name": "stdout",
          "text": [
            "\n",
            "Accuracy with different max_depth values:\n",
            "  max_depth: 1, Accuracy: 0.9000\n",
            "  max_depth: 5, Accuracy: 1.0000\n",
            "  max_depth: 10, Accuracy: 0.9500\n",
            "  max_depth: 15, Accuracy: 0.9500\n",
            "  max_depth: 20, Accuracy: 0.9500\n",
            "  max_depth: None, Accuracy: 0.9500\n"
          ]
        },
        {
          "output_type": "display_data",
          "data": {
            "text/plain": [
              "<Figure size 800x500 with 1 Axes>"
            ],
            "image/png": "[encoded data removed]"
          },
          "metadata": {}
        }
      ]
    },
    {
      "cell_type": "code",
      "source": [
        "#Train a Random Forest Classifier and evaluate its performance using ROC-AUC Score.\n",
        "from sklearn.metrics import roc_auc_score\n",
        "\n",
        "# Assuming X_train_clf, X_test_clf, y_train_clf, y_test_clf are already defined and the RandomForestClassifier `rf_clf` is trained\n",
        "\n",
        "# Make predictions on the test set - specifically predict probabilities for the positive class\n",
        "# The predict_proba method returns probabilities for each class [probability_class_0, probability_class_1]\n",
        "y_pred_proba = rf_clf.predict_proba(X_test_clf)[:, 1] # Get probabilities for the positive class (class 1)\n",
        "\n",
        "# Calculate the ROC-AUC Score\n",
        "# y_true: The true labels\n",
        "# y_score: Target scores, can either be probability estimates of the positive class or non-thresholded decision values.\n",
        "roc_auc = roc_auc_score(y_test_clf, y_pred_proba)\n",
        "\n",
        "# Print the ROC-AUC Score\n",
        "print(f\"\\nRandom Forest Classifier ROC-AUC Score: {roc_auc:.4f}\")"
      ],
      "metadata": {
        "colab": {
          "base_uri": "https://localhost:8080/"
        },
        "id": "PG8LXWX4_f5q",
        "outputId": "47a0a554-ae03-4786-96c6-0651d95f1cdb"
      },
      "execution_count": 47,
      "outputs": [
        {
          "output_type": "stream",
          "name": "stdout",
          "text": [
            "\n",
            "Random Forest Classifier ROC-AUC Score: 0.8791\n"
          ]
        }
      ]
    },
    {
      "cell_type": "code",
      "source": [
        "# Train a Random Forest Classifier and plot the Precision-Recall curv.\n",
        "from sklearn.metrics import precision_recall_curve, auc\n",
        "import matplotlib.pyplot as plt\n",
        "\n",
        "# Assuming X_train_clf, X_test_clf, y_train_clf, y_test_clf are already defined and the RandomForestClassifier `rf_clf` is trained\n",
        "\n",
        "# Get probability estimates for the positive class (class 1)\n",
        "y_scores = rf_clf.predict_proba(X_test_clf)[:, 1]\n",
        "\n",
        "# Calculate precision and recall for various thresholds\n",
        "# precision, recall, thresholds\n",
        "precision, recall, _ = precision_recall_curve(y_test_clf, y_scores)\n",
        "\n",
        "# Calculate the Area Under the Precision-Recall Curve (AUPRC)\n",
        "auprc = auc(recall, precision)\n",
        "\n",
        "# Plot the Precision-Recall curve\n",
        "plt.figure(figsize=(8, 6))\n",
        "plt.plot(recall, precision, marker='.', label=f'Random Forest (AUPRC = {auprc:.2f})')\n",
        "plt.xlabel('Recall')\n",
        "plt.ylabel('Precision')\n",
        "plt.title('Precision-Recall Curve for Random Forest Classifier')\n",
        "plt.legend()\n",
        "plt.grid(True)\n",
        "plt.show()"
      ],
      "metadata": {
        "colab": {
          "base_uri": "https://localhost:8080/",
          "height": 564
        },
        "id": "WL0M6uGB_gP8",
        "outputId": "3c5082e8-cbfe-402c-b336-814a72aee184"
      },
      "execution_count": 51,
      "outputs": [
        {
          "output_type": "display_data",
          "data": {
            "text/plain": [
              "<Figure size 800x600 with 1 Axes>"
            ],
            "image/png": "[encoded data removed]"
          },
          "metadata": {}
        }
      ]
    },
    {
      "cell_type": "code",
      "source": [
        "#Train a Stacking Classifier with Random Forest and Logistic Regression and compare accuracy.\n",
        "X_stack_rf_lr, y_stack_rf_lr = make_classification(n_samples=400, n_features=20, n_informative=10, n_redundant=5, random_state=42)\n",
        "\n",
        "# Split the dataset into training and testing sets\n",
        "X_train_stack_rf_lr, X_test_stack_rf_lr, y_train_stack_rf_lr, y_test_stack_rf_lr = train_test_split(X_stack_rf_lr, y_stack_rf_lr, test_size=0.2, random_state=42)\n",
        "\n",
        "# Define the base estimators: Random Forest and Logistic Regression\n",
        "estimators_rf_lr = [\n",
        "    ('rf', RandomForestClassifier(n_estimators=100, random_state=42)),\n",
        "    ('lr_base', LogisticRegression(random_state=42))\n",
        "]\n",
        "\n",
        "# Define the meta-estimator (final classifier)\n",
        "meta_estimator_rf_lr = LogisticRegression(random_state=42)\n",
        "\n",
        "# Create the Stacking Classifier\n",
        "stacking_clf_rf_lr = StackingClassifier(estimators=estimators_rf_lr, final_estimator=meta_estimator_rf_lr, cv=5)\n",
        "\n",
        "# Train the Stacking Classifier\n",
        "stacking_clf_rf_lr.fit(X_train_stack_rf_lr, y_train_stack_rf_lr)\n",
        "\n",
        "# Make predictions on the test set\n",
        "y_pred_stack_rf_lr = stacking_clf_rf_lr.predict(X_test_stack_rf_lr)\n",
        "\n",
        "# Calculate and print the accuracy of the Stacking Classifier\n",
        "accuracy_stack_rf_lr = accuracy_score(y_test_stack_rf_lr, y_pred_stack_rf_lr)\n",
        "print(f\"\\nStacking Classifier (RF + LR) Accuracy: {accuracy_stack_rf_lr:.4f}\")\n",
        "\n",
        "# Train and evaluate individual base models for comparison\n",
        "rf_clf_compare = RandomForestClassifier(n_estimators=100, random_state=42)\n",
        "rf_clf_compare.fit(X_train_stack_rf_lr, y_train_stack_rf_lr)\n",
        "y_pred_rf_compare = rf_clf_compare.predict(X_test_stack_rf_lr)\n",
        "accuracy_rf_compare = accuracy_score(y_test_stack_rf_lr, y_pred_rf_compare)\n",
        "print(f\"Random Forest Classifier Accuracy: {accuracy_rf_compare:.4f}\")\n",
        "\n",
        "lr_clf_compare = LogisticRegression(random_state=42)\n",
        "lr_clf_compare.fit(X_train_stack_rf_lr, y_train_stack_rf_lr)\n",
        "y_pred_lr_compare = lr_clf_compare.predict(X_test_stack_rf_lr)\n",
        "accuracy_lr_compare = accuracy_score(y_test_stack_rf_lr, y_pred_lr_compare)\n",
        "print(f\"Logistic Regression Accuracy: {accuracy_lr_compare:.4f}\")\n",
        "\n",
        "# Compare accuracies\n",
        "print(\"\\nAccuracy Comparison:\")\n",
        "print(f\"  Stacking Classifier (RF + LR): {accuracy_stack_rf_lr:.4f}\")\n",
        "print(f\"  Random Forest:                 {accuracy_rf_compare:.4f}\")\n",
        "print(f\"  Logistic Regression:           {accuracy_lr_compare:.4f}\")"
      ],
      "metadata": {
        "colab": {
          "base_uri": "https://localhost:8080/"
        },
        "id": "aQcHCLJYA5-C",
        "outputId": "86261dd2-5999-4946-f6c0-c6d553afb203"
      },
      "execution_count": 53,
      "outputs": [
        {
          "output_type": "stream",
          "name": "stdout",
          "text": [
            "\n",
            "Stacking Classifier (RF + LR) Accuracy: 0.8875\n",
            "Random Forest Classifier Accuracy: 0.8625\n",
            "Logistic Regression Accuracy: 0.7875\n",
            "\n",
            "Accuracy Comparison:\n",
            "  Stacking Classifier (RF + LR): 0.8875\n",
            "  Random Forest:                 0.8625\n",
            "  Logistic Regression:           0.7875\n"
          ]
        }
      ]
    }
  ]
}